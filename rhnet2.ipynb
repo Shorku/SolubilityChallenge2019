{
 "cells": [
  {
   "metadata": {
    "collapsed": true,
    "ExecuteTime": {
     "end_time": "2025-01-16T13:38:39.435017Z",
     "start_time": "2025-01-16T13:38:39.430019Z"
    }
   },
   "cell_type": "code",
   "source": [
    "###############################################################################\n",
    "# This notebook shows application of the RhNet2 model to aqueous solubility\n",
    "# prediction.\n",
    "#\n",
    "# Presented here, RhNet2 model (RhNet2SC2) learned to predict intrinsic aqueous\n",
    "# solubility from 1-el density matrices (originating from DFT calculations) on\n",
    "# a set of 985 drug-like molecules from Wiki-pS0 and tested on the Solubility\n",
    "# Challenge (2019) test sets.\n",
    "#\n",
    "# The details of the model architecture are described in the corresponding paper:\n",
    "# https://doi.org/10.26434/chemrxiv-2024-k2k3l\n",
    "#\n",
    "# Implementation:\n",
    "# https://github.com/Shorku/rhnet2\n",
    "#\n",
    "# Second Solubility Challenge (2019, SC-2):\n",
    "# https://doi.org/10.1021/acs.jcim.9b00345\n",
    "# https://doi.org/10.1021/acs.jcim.0c00701\n",
    "###############################################################################"
   ],
   "id": "initial_id",
   "outputs": [],
   "execution_count": 2
  },
  {
   "metadata": {
    "ExecuteTime": {
     "end_time": "2025-05-28T13:15:41.677264Z",
     "start_time": "2025-05-28T13:15:41.672901Z"
    }
   },
   "cell_type": "code",
   "source": [
    "import os\n",
    "\n",
    "import tensorflow as tf\n",
    "\n",
    "from data_utils import served_input_from_orca\n",
    "\n",
    "###############################################################################\n",
    "# path info\n",
    "###############################################################################\n",
    "orca_out_path = 'data_example'\n",
    "overlap_threshold = 0.035\n",
    "model_path = 'model/RhNet2SC2'"
   ],
   "id": "57f9139119016d1d",
   "outputs": [],
   "execution_count": 10
  },
  {
   "metadata": {
    "ExecuteTime": {
     "end_time": "2025-05-28T13:17:31.195285Z",
     "start_time": "2025-05-28T13:17:30.592407Z"
    }
   },
   "cell_type": "code",
   "source": [
    "###############################################################################\n",
    "# As an example, we will now predict water solubility of, say, Clofazimine\n",
    "# (test compound, not seen by the model) from its electronic structure.\n",
    "# The results of DFT calculation are available in the data_example/ folder.\n",
    "# First, we will convert the output of quantum chemical package (ORCA) into\n",
    "# a bunch of tensors expected by the saved models:\n",
    "\n",
    "orca_out_file = 'clofazimine.zip'\n",
    "subset_folder = 'set2'\n",
    "orca_out = os.path.join(orca_out_path, subset_folder, orca_out_file)\n",
    "qchem_mat = served_input_from_orca(out_file=orca_out,\n",
    "                                   overlap_thresh=overlap_threshold)"
   ],
   "id": "cf3f30f64fe0c64b",
   "outputs": [],
   "execution_count": 11
  },
  {
   "metadata": {
    "ExecuteTime": {
     "end_time": "2025-05-28T13:18:33.363989Z",
     "start_time": "2025-05-28T13:18:33.193496Z"
    }
   },
   "cell_type": "code",
   "source": [
    "###############################################################################\n",
    "# Load the model\n",
    "\n",
    "model = tf.saved_model.load(model_path)\n",
    "infer = model.signatures['serving_default']"
   ],
   "id": "e6a391fa8fa4bdb4",
   "outputs": [],
   "execution_count": 12
  },
  {
   "metadata": {
    "ExecuteTime": {
     "end_time": "2025-05-28T13:19:17.261511Z",
     "start_time": "2025-05-28T13:19:17.177513Z"
    }
   },
   "cell_type": "code",
   "source": [
    "###############################################################################\n",
    "# Now, we can predict the solubility of clofazimine.\n",
    "\n",
    "clofazimine_prediction = infer(**qchem_mat)\n",
    "clofazimine_solubility = clofazimine_prediction['target'][0].numpy()[0]\n",
    "\n",
    "print(f'Clofazimine intrinsic aqueous solubility (log \\u03BCM):\\n'\n",
    "      f'Predicted: {clofazimine_solubility:.2f}, '\n",
    "      f'Reported: -3.05, '\n",
    "      f'Error: {(clofazimine_solubility + 3.05):.2f}')"
   ],
   "id": "af14ea93e6e79dd3",
   "outputs": [
    {
     "name": "stdout",
     "output_type": "stream",
     "text": [
      "Clofazimine intrinsic aqueous solubility (log μM):\n",
      "Predicted: -2.54, Reported: -3.05, Error: 0.51\n"
     ]
    }
   ],
   "execution_count": 13
  },
  {
   "metadata": {
    "ExecuteTime": {
     "end_time": "2025-05-28T13:38:01.579472Z",
     "start_time": "2025-05-28T13:38:01.572629Z"
    }
   },
   "cell_type": "code",
   "source": [
    "###############################################################################\n",
    "# Simultaneously with solubility, properties like melting point and Kow are\n",
    "# predicted. These were introduced primarily for regularization purpose.\n",
    "# The models were not optimized to perform well for anything but solubility.\n",
    "# However, let's look at the predicted values:\n",
    "\n",
    "clofazimine_melt = clofazimine_prediction['melt'][0].numpy()[0]*100\n",
    "clofazimine_kow = clofazimine_prediction['logk'][0].numpy()[0]\n",
    "print(f'Clofazimine melting point (\\u2070C):\\n'\n",
    "      f'Predicted: {clofazimine_melt:.1f}, '\n",
    "      f'Reported: 211.0, '\n",
    "      f'Error: {abs(clofazimine_melt - 211.0):.1f}\\n\\n'\n",
    "      f'Clofazimine logK_ow:\\n'\n",
    "      f'Predicted: {clofazimine_kow:.2f}, '\n",
    "      f'Reported: 7.66, '\n",
    "      f'Error: {abs(clofazimine_kow - 7.66):.2f}')"
   ],
   "id": "b991b326d056bd58",
   "outputs": [
    {
     "name": "stdout",
     "output_type": "stream",
     "text": [
      "Clofazimine melting point (⁰C):\n",
      "Predicted: 196.7, Reported: 211.0, Error: 14.3\n",
      "\n",
      "Clofazimine logK_ow:\n",
      "Predicted: 7.32, Reported: 7.66, Error: 0.34\n"
     ]
    }
   ],
   "execution_count": 17
  },
  {
   "metadata": {},
   "cell_type": "code",
   "outputs": [],
   "execution_count": null,
   "source": "",
   "id": "2dc5a47639bf9b81"
  }
 ],
 "metadata": {
  "kernelspec": {
   "display_name": "Python 3",
   "language": "python",
   "name": "python3"
  },
  "language_info": {
   "codemirror_mode": {
    "name": "ipython",
    "version": 2
   },
   "file_extension": ".py",
   "mimetype": "text/x-python",
   "name": "python",
   "nbconvert_exporter": "python",
   "pygments_lexer": "ipython2",
   "version": "2.7.6"
  }
 },
 "nbformat": 4,
 "nbformat_minor": 5
}
